{
 "cells": [
  {
   "cell_type": "markdown",
   "metadata": {},
   "source": [
    "# Project Outline: Minimizing SUMMA Model Misfits at the Cues Site\n",
    "CVU - Intro to Snow Hydrology: Focus on Modeling\n",
    "\n",
    "Bareera Mirza & Rainey Aberle\n",
    "\n",
    "29 October 2021"
   ]
  },
  {
   "cell_type": "markdown",
   "metadata": {},
   "source": [
    "#### SUMMA parameters / decisions to modify:\n",
    "1. Downward longwave radiation parameterization\n",
    "2. `snowIncept`: `stickySnow` vs. `lightSnow`\n",
    "3. "
   ]
  },
  {
   "cell_type": "markdown",
   "metadata": {},
   "source": [
    "#### Set path to the cues folder"
   ]
  },
  {
   "cell_type": "code",
   "execution_count": 1,
   "metadata": {},
   "outputs": [],
   "source": [
    "homepath = '/home/jovyan/data/work/CVU_SnowHydro_CourseProject/cues/'"
   ]
  },
  {
   "cell_type": "markdown",
   "metadata": {},
   "source": [
    "#### Import Packages"
   ]
  },
  {
   "cell_type": "code",
   "execution_count": 2,
   "metadata": {},
   "outputs": [],
   "source": [
    "%matplotlib inline\n",
    "import matplotlib.pyplot as plt # if you want to do some plotting using matplotlib (optional)\n",
    "import numpy as np # provide some mathematical functions\n",
    "import xarray as xr # read, write, manipulate and analyze NetCDF files\n",
    "from pathlib import Path\n",
    "cycle = plt.rcParams['axes.prop_cycle'].by_key()['color']\n",
    "import warnings\n",
    "warnings.filterwarnings('ignore')\n",
    "import pysumma as ps"
   ]
  },
  {
   "cell_type": "markdown",
   "metadata": {},
   "source": [
    "#### Setup the SUMMA executable and file manager"
   ]
  },
  {
   "cell_type": "code",
   "execution_count": 3,
   "metadata": {},
   "outputs": [],
   "source": [
    "executable = 'summa.exe'\n",
    "filemanager = str(homepath+'summa_setup/settings/file_manager_cues.txt')"
   ]
  },
  {
   "cell_type": "code",
   "execution_count": null,
   "metadata": {},
   "outputs": [],
   "source": []
  },
  {
   "cell_type": "code",
   "execution_count": 2,
   "metadata": {},
   "outputs": [],
   "source": [
    "# Stephan-Boltzmann constant (J/s/m^2/K^4)\n",
    "STEFAN = 5.67e-8\n",
    "\n",
    "\n",
    "def vapor_pressure(air_pressure, spec_humid):\n",
    "    \"\"\"See above for derivation\"\"\"\n",
    "    return -1.607 * air_pressure * spec_humid / (spec_humid - 1)\n",
    "\n",
    "\n",
    "def longwave_prata(air_temp, vapor_pressure):\n",
    "    \"\"\"\n",
    "    Reference:\n",
    "        Prata, A.J., 1996. A new long-wave formula for estimating\n",
    "        downward clear-sky radiation at the surface. Q. J. R. Meteor.\n",
    "        Soc. 122 (533), 1127–1151, doi:10.1002/qj.49712253306.\n",
    "    \"\"\"\n",
    "    z = 46.5 * (vapor_pressure / air_temp)\n",
    "    emissivity = 1 - (1 + z) * np.exp(-np.sqrt(1.2 + 3 * z))\n",
    "    return emissivity * np.power(air_temp, 4) * STEFAN\n",
    "        \n",
    "    \n",
    "def longwave_tva(air_temp, vapor_pressure):\n",
    "    \"\"\"\n",
    "    Reference:\n",
    "        Tennessee Valley Authority, 1972. Heat and mass transfer between a\n",
    "        water surface and the atmosphere. Tennessee Valley Authority, Norris,\n",
    "        TN. Laboratory report no. 14. Water resources research report no. 0-6803.\n",
    "    \"\"\"\n",
    "    emissivity = 0.74 + 0.0049 * vapor_pressure/10\n",
    "    return emissivity * np.power(air_temp, 4) * STEFAN\n",
    "\n",
    "\n",
    "def longwave_satterlund(air_temp, vapor_pressure):\n",
    "    \"\"\"\n",
    "    Reference:\n",
    "        Satterlund, D.R., 1979. An improved equation for estimating long-wave\n",
    "        radiation from the atmosphere. Water Resour. Res. 15 (6), 1649–1650,\n",
    "        doi:10.1029/WR015i006p01649.\n",
    "    \"\"\"\n",
    "    vp = vapor_pressure / 10\n",
    "    emissivity = 1.08 * (1 - np.exp(-np.power(vp, air_temp/2016)))\n",
    "    return emissivity * np.power(air_temp, 4) * STEFAN\n",
    "\n",
    "\n",
    "def longwave_anderson(air_temp, vapor_pressure):\n",
    "    \"\"\"\n",
    "    Referencce:\n",
    "        Anderson, E.R., 1954. Energy budget studies, water loss\n",
    "        investigations: lake Hefner studies. U.S. Geol. Surv. Prof. Pap. 269,\n",
    "        71–119 [Available from U.S. Geological Survey, 807 National Center,\n",
    "        Reston, VA 20192.].\n",
    "    \"\"\"\n",
    "    emissivity = 0.68 + 0.036 * np.power(vapor_pressure/10, 0.5)\n",
    "    return emissivity * np.power(air_temp, 4) * STEFAN\n",
    "\n",
    "\n",
    "def cloud_correction(shortwave, lat=43.03, highlimit=0.6, lowlimit=0.35):\n",
    "    \"\"\"Converted from cloudfactor_Jessica.m\"\"\"\n",
    "    doy = shortwave.time.dt.dayofyear\n",
    "    s0 = 1360                     # Solar constant (W/m^2)\n",
    "    phi = lat * 2 * np.pi / 365   # Convert to radian\n",
    "    # Declination in radians\n",
    "    delta = (2 * np.pi / 365) * (23.45 * np.sin(2 * np.pi * (284 + doy) / 365))\n",
    "    \n",
    "    # Top of atmosphere radiation\n",
    "    hs = np.arccos(-np.tan(phi) * np.tan(delta))\n",
    "    q0 = s0 * (1/np.pi) * (\n",
    "        hs * np.sin(phi) * np.sin(delta) + np.cos(phi) * np.cos(delta) * np.sin(hs))\n",
    "    \n",
    "    # Fraction of recieved radiation\n",
    "    k = shortwave / q0\n",
    "    \n",
    "    # Cloud cover fraction\n",
    "    cloud_frac = 1 - ((k - lowlimit) / (highlimit - lowlimit))\n",
    "    cloud_frac = cloud_frac.where(cloud_frac > 0, other=0.0)\n",
    "    cloud_frac = cloud_frac.where(cloud_frac < 1, other=1.0)\n",
    "    return cloud_frac\n",
    "    \n",
    "    \n",
    "def longwave_dokia(air_temp, vapor_pressure, shortwave):\n",
    "    \"\"\"\n",
    "    References:\n",
    "      -Clear sky:\n",
    "        Dilley, A. C., and D. M. O<92>Brien (1998), Estimating downward clear sky\n",
    "        long-wave irradiance at the surface from screen temperature and precipitable\n",
    "        water, Q. J. R. Meteorol. Soc., 124, 1391<96> 1401.\n",
    "      -Cloudy sky:\n",
    "        Kimball, B. A., S. B. Idso, and J. K. Aase (1982), A model of thermal                                                                                          \n",
    "        radiation from partly cloudy and overcast skies, Water Resour. Res., 18,                                                                                       \n",
    "        931<96> 936.                                   \n",
    "    \"\"\"\n",
    "    vp = vapor_pressure / 1000 # Convert to kPa\n",
    "    w = 4560 * (vp / air_temp) # Prata (1996) approximation for precipitable water\n",
    "    \n",
    "    # Clear sky component of longwave\n",
    "    lw_clear = 59.38 + 113.7 * np.power(air_temp / 273.16, 6) + 96.96 * np.sqrt(w / 25)\n",
    "    \n",
    "    # Cloud cover corrections\n",
    "    c = cloud_correction(shortwave)\n",
    "    cloud_temp = air_temp - 11\n",
    "    winter = np.logical_or(vp.time.dt.month <= 2, vp.time.dt.month == 12)\n",
    "    summer = np.logical_and(vp.time.dt.month <= 8, vp.time.dt.month >=6)\n",
    "    cloud_temp[winter] -= 2\n",
    "    cloud_temp[summer] += 2\n",
    "    \n",
    "    # Cloudy sky component of longwave\n",
    "    eps8z = 0.24 + 2.98e-6 * np.power(vp, 2.0) * np.exp(3000/air_temp)\n",
    "    tau8 = 1 - eps8z * (1.4 - (0.4 * eps8z))\n",
    "    f8 = -0.6732 + 0.6240e-2 * cloud_temp - 0.914e-5 * np.power(cloud_temp, 2.0)\n",
    "    lw_cloud = tau8 * c * f8 * STEFAN * np.power(cloud_temp, 4)   \n",
    "    return lw_clear + lw_cloud"
   ]
  }
 ],
 "metadata": {
  "kernelspec": {
   "display_name": "Python 3",
   "language": "python",
   "name": "python3"
  },
  "language_info": {
   "codemirror_mode": {
    "name": "ipython",
    "version": 3
   },
   "file_extension": ".py",
   "mimetype": "text/x-python",
   "name": "python",
   "nbconvert_exporter": "python",
   "pygments_lexer": "ipython3",
   "version": "3.8.6"
  }
 },
 "nbformat": 4,
 "nbformat_minor": 4
}
